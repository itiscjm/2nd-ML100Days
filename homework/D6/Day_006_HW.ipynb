{
 "cells": [
  {
   "cell_type": "markdown",
   "metadata": {},
   "source": [
    "# 檢視與處理 Outliers\n",
    "### 為何會有 outliers, 常見的 outlier 原因\n",
    "* 未知值，隨意填補 (約定俗成的代入)，如年齡常見 0,999\n",
    "* 可能的錯誤紀錄/手誤/系統性錯誤，如某本書在某筆訂單的銷售量 = 1000 本"
   ]
  },
  {
   "cell_type": "markdown",
   "metadata": {},
   "source": [
    "# [作業目標]\n",
    "- 依照下列提示與引導, 以幾種不同的方式, 檢視可能的離群值"
   ]
  },
  {
   "cell_type": "markdown",
   "metadata": {},
   "source": [
    "# [作業重點]\n",
    "- 從原始資料篩選可能的欄位, 看看那些欄位可能有離群值 (In[3], Out[3])\n",
    "- 繪製目標值累積密度函數(ECDF)的圖形, 和常態分布的累積密度函數對比, 以確認是否有離群值的情形 (In[6], Out[6], In[7], Out[7])"
   ]
  },
  {
   "cell_type": "code",
   "execution_count": 263,
   "metadata": {
    "collapsed": true
   },
   "outputs": [],
   "source": [
    "### Import 需要的套件\n",
    "import os\n",
    "import numpy as np\n",
    "import pandas as pd\n",
    "import matplotlib.pyplot as plt\n",
    "\n",
    "%matplotlib inline\n",
    "\n",
    "# 設定 data_path\n",
    "dir_data = '../../data/Part01/'"
   ]
  },
  {
   "cell_type": "code",
   "execution_count": 264,
   "metadata": {},
   "outputs": [
    {
     "name": "stdout",
     "output_type": "stream",
     "text": [
      "Path of read in data: ../../data/Part01/application_train.csv\n"
     ]
    },
    {
     "data": {
      "text/html": [
       "<div>\n",
       "<style>\n",
       "    .dataframe thead tr:only-child th {\n",
       "        text-align: right;\n",
       "    }\n",
       "\n",
       "    .dataframe thead th {\n",
       "        text-align: left;\n",
       "    }\n",
       "\n",
       "    .dataframe tbody tr th {\n",
       "        vertical-align: top;\n",
       "    }\n",
       "</style>\n",
       "<table border=\"1\" class=\"dataframe\">\n",
       "  <thead>\n",
       "    <tr style=\"text-align: right;\">\n",
       "      <th></th>\n",
       "      <th>SK_ID_CURR</th>\n",
       "      <th>TARGET</th>\n",
       "      <th>NAME_CONTRACT_TYPE</th>\n",
       "      <th>CODE_GENDER</th>\n",
       "      <th>FLAG_OWN_CAR</th>\n",
       "      <th>FLAG_OWN_REALTY</th>\n",
       "      <th>CNT_CHILDREN</th>\n",
       "      <th>AMT_INCOME_TOTAL</th>\n",
       "      <th>AMT_CREDIT</th>\n",
       "      <th>AMT_ANNUITY</th>\n",
       "      <th>...</th>\n",
       "      <th>FLAG_DOCUMENT_18</th>\n",
       "      <th>FLAG_DOCUMENT_19</th>\n",
       "      <th>FLAG_DOCUMENT_20</th>\n",
       "      <th>FLAG_DOCUMENT_21</th>\n",
       "      <th>AMT_REQ_CREDIT_BUREAU_HOUR</th>\n",
       "      <th>AMT_REQ_CREDIT_BUREAU_DAY</th>\n",
       "      <th>AMT_REQ_CREDIT_BUREAU_WEEK</th>\n",
       "      <th>AMT_REQ_CREDIT_BUREAU_MON</th>\n",
       "      <th>AMT_REQ_CREDIT_BUREAU_QRT</th>\n",
       "      <th>AMT_REQ_CREDIT_BUREAU_YEAR</th>\n",
       "    </tr>\n",
       "  </thead>\n",
       "  <tbody>\n",
       "    <tr>\n",
       "      <th>0</th>\n",
       "      <td>100002</td>\n",
       "      <td>1</td>\n",
       "      <td>Cash loans</td>\n",
       "      <td>M</td>\n",
       "      <td>N</td>\n",
       "      <td>Y</td>\n",
       "      <td>0</td>\n",
       "      <td>202500.0</td>\n",
       "      <td>406597.5</td>\n",
       "      <td>24700.5</td>\n",
       "      <td>...</td>\n",
       "      <td>0</td>\n",
       "      <td>0</td>\n",
       "      <td>0</td>\n",
       "      <td>0</td>\n",
       "      <td>0.0</td>\n",
       "      <td>0.0</td>\n",
       "      <td>0.0</td>\n",
       "      <td>0.0</td>\n",
       "      <td>0.0</td>\n",
       "      <td>1.0</td>\n",
       "    </tr>\n",
       "    <tr>\n",
       "      <th>1</th>\n",
       "      <td>100003</td>\n",
       "      <td>0</td>\n",
       "      <td>Cash loans</td>\n",
       "      <td>F</td>\n",
       "      <td>N</td>\n",
       "      <td>N</td>\n",
       "      <td>0</td>\n",
       "      <td>270000.0</td>\n",
       "      <td>1293502.5</td>\n",
       "      <td>35698.5</td>\n",
       "      <td>...</td>\n",
       "      <td>0</td>\n",
       "      <td>0</td>\n",
       "      <td>0</td>\n",
       "      <td>0</td>\n",
       "      <td>0.0</td>\n",
       "      <td>0.0</td>\n",
       "      <td>0.0</td>\n",
       "      <td>0.0</td>\n",
       "      <td>0.0</td>\n",
       "      <td>0.0</td>\n",
       "    </tr>\n",
       "    <tr>\n",
       "      <th>2</th>\n",
       "      <td>100004</td>\n",
       "      <td>0</td>\n",
       "      <td>Revolving loans</td>\n",
       "      <td>M</td>\n",
       "      <td>Y</td>\n",
       "      <td>Y</td>\n",
       "      <td>0</td>\n",
       "      <td>67500.0</td>\n",
       "      <td>135000.0</td>\n",
       "      <td>6750.0</td>\n",
       "      <td>...</td>\n",
       "      <td>0</td>\n",
       "      <td>0</td>\n",
       "      <td>0</td>\n",
       "      <td>0</td>\n",
       "      <td>0.0</td>\n",
       "      <td>0.0</td>\n",
       "      <td>0.0</td>\n",
       "      <td>0.0</td>\n",
       "      <td>0.0</td>\n",
       "      <td>0.0</td>\n",
       "    </tr>\n",
       "    <tr>\n",
       "      <th>3</th>\n",
       "      <td>100006</td>\n",
       "      <td>0</td>\n",
       "      <td>Cash loans</td>\n",
       "      <td>F</td>\n",
       "      <td>N</td>\n",
       "      <td>Y</td>\n",
       "      <td>0</td>\n",
       "      <td>135000.0</td>\n",
       "      <td>312682.5</td>\n",
       "      <td>29686.5</td>\n",
       "      <td>...</td>\n",
       "      <td>0</td>\n",
       "      <td>0</td>\n",
       "      <td>0</td>\n",
       "      <td>0</td>\n",
       "      <td>NaN</td>\n",
       "      <td>NaN</td>\n",
       "      <td>NaN</td>\n",
       "      <td>NaN</td>\n",
       "      <td>NaN</td>\n",
       "      <td>NaN</td>\n",
       "    </tr>\n",
       "    <tr>\n",
       "      <th>4</th>\n",
       "      <td>100007</td>\n",
       "      <td>0</td>\n",
       "      <td>Cash loans</td>\n",
       "      <td>M</td>\n",
       "      <td>N</td>\n",
       "      <td>Y</td>\n",
       "      <td>0</td>\n",
       "      <td>121500.0</td>\n",
       "      <td>513000.0</td>\n",
       "      <td>21865.5</td>\n",
       "      <td>...</td>\n",
       "      <td>0</td>\n",
       "      <td>0</td>\n",
       "      <td>0</td>\n",
       "      <td>0</td>\n",
       "      <td>0.0</td>\n",
       "      <td>0.0</td>\n",
       "      <td>0.0</td>\n",
       "      <td>0.0</td>\n",
       "      <td>0.0</td>\n",
       "      <td>0.0</td>\n",
       "    </tr>\n",
       "  </tbody>\n",
       "</table>\n",
       "<p>5 rows × 122 columns</p>\n",
       "</div>"
      ],
      "text/plain": [
       "   SK_ID_CURR  TARGET NAME_CONTRACT_TYPE CODE_GENDER FLAG_OWN_CAR  \\\n",
       "0      100002       1         Cash loans           M            N   \n",
       "1      100003       0         Cash loans           F            N   \n",
       "2      100004       0    Revolving loans           M            Y   \n",
       "3      100006       0         Cash loans           F            N   \n",
       "4      100007       0         Cash loans           M            N   \n",
       "\n",
       "  FLAG_OWN_REALTY  CNT_CHILDREN  AMT_INCOME_TOTAL  AMT_CREDIT  AMT_ANNUITY  \\\n",
       "0               Y             0          202500.0    406597.5      24700.5   \n",
       "1               N             0          270000.0   1293502.5      35698.5   \n",
       "2               Y             0           67500.0    135000.0       6750.0   \n",
       "3               Y             0          135000.0    312682.5      29686.5   \n",
       "4               Y             0          121500.0    513000.0      21865.5   \n",
       "\n",
       "              ...              FLAG_DOCUMENT_18 FLAG_DOCUMENT_19  \\\n",
       "0             ...                             0                0   \n",
       "1             ...                             0                0   \n",
       "2             ...                             0                0   \n",
       "3             ...                             0                0   \n",
       "4             ...                             0                0   \n",
       "\n",
       "  FLAG_DOCUMENT_20 FLAG_DOCUMENT_21 AMT_REQ_CREDIT_BUREAU_HOUR  \\\n",
       "0                0                0                        0.0   \n",
       "1                0                0                        0.0   \n",
       "2                0                0                        0.0   \n",
       "3                0                0                        NaN   \n",
       "4                0                0                        0.0   \n",
       "\n",
       "  AMT_REQ_CREDIT_BUREAU_DAY  AMT_REQ_CREDIT_BUREAU_WEEK  \\\n",
       "0                       0.0                         0.0   \n",
       "1                       0.0                         0.0   \n",
       "2                       0.0                         0.0   \n",
       "3                       NaN                         NaN   \n",
       "4                       0.0                         0.0   \n",
       "\n",
       "   AMT_REQ_CREDIT_BUREAU_MON  AMT_REQ_CREDIT_BUREAU_QRT  \\\n",
       "0                        0.0                        0.0   \n",
       "1                        0.0                        0.0   \n",
       "2                        0.0                        0.0   \n",
       "3                        NaN                        NaN   \n",
       "4                        0.0                        0.0   \n",
       "\n",
       "   AMT_REQ_CREDIT_BUREAU_YEAR  \n",
       "0                         1.0  \n",
       "1                         0.0  \n",
       "2                         0.0  \n",
       "3                         NaN  \n",
       "4                         0.0  \n",
       "\n",
       "[5 rows x 122 columns]"
      ]
     },
     "execution_count": 264,
     "metadata": {},
     "output_type": "execute_result"
    }
   ],
   "source": [
    "### f_app = os.path.join(dir_data, 'application_train.csv')\n",
    "print('Path of read in data: %s' % (f_app))\n",
    "app_train = pd.read_csv(f_app)\n",
    "app_train.head()"
   ]
  },
  {
   "cell_type": "markdown",
   "metadata": {},
   "source": [
    "## 請參考 HomeCredit_columns_description.csv 的欄位說明，觀察並列出三個你覺得可能有 outlier 的欄位並解釋可能的原因"
   ]
  },
  {
   "cell_type": "code",
   "execution_count": 265,
   "metadata": {
    "scrolled": true
   },
   "outputs": [
    {
     "name": "stdout",
     "output_type": "stream",
     "text": [
      "Numbers of remain columns: 73\n",
      "['SK_ID_CURR', 'CNT_CHILDREN', 'AMT_INCOME_TOTAL', 'AMT_CREDIT', 'AMT_ANNUITY', 'AMT_GOODS_PRICE', 'REGION_POPULATION_RELATIVE', 'DAYS_BIRTH', 'DAYS_EMPLOYED', 'DAYS_REGISTRATION', 'DAYS_ID_PUBLISH', 'OWN_CAR_AGE', 'CNT_FAM_MEMBERS', 'REGION_RATING_CLIENT', 'REGION_RATING_CLIENT_W_CITY', 'HOUR_APPR_PROCESS_START', 'EXT_SOURCE_1', 'EXT_SOURCE_2', 'EXT_SOURCE_3', 'APARTMENTS_AVG', 'BASEMENTAREA_AVG', 'YEARS_BEGINEXPLUATATION_AVG', 'YEARS_BUILD_AVG', 'COMMONAREA_AVG', 'ELEVATORS_AVG', 'ENTRANCES_AVG', 'FLOORSMAX_AVG', 'FLOORSMIN_AVG', 'LANDAREA_AVG', 'LIVINGAPARTMENTS_AVG', 'LIVINGAREA_AVG', 'NONLIVINGAPARTMENTS_AVG', 'NONLIVINGAREA_AVG', 'APARTMENTS_MODE', 'BASEMENTAREA_MODE', 'YEARS_BEGINEXPLUATATION_MODE', 'YEARS_BUILD_MODE', 'COMMONAREA_MODE', 'ELEVATORS_MODE', 'ENTRANCES_MODE', 'FLOORSMAX_MODE', 'FLOORSMIN_MODE', 'LANDAREA_MODE', 'LIVINGAPARTMENTS_MODE', 'LIVINGAREA_MODE', 'NONLIVINGAPARTMENTS_MODE', 'NONLIVINGAREA_MODE', 'APARTMENTS_MEDI', 'BASEMENTAREA_MEDI', 'YEARS_BEGINEXPLUATATION_MEDI', 'YEARS_BUILD_MEDI', 'COMMONAREA_MEDI', 'ELEVATORS_MEDI', 'ENTRANCES_MEDI', 'FLOORSMAX_MEDI', 'FLOORSMIN_MEDI', 'LANDAREA_MEDI', 'LIVINGAPARTMENTS_MEDI', 'LIVINGAREA_MEDI', 'NONLIVINGAPARTMENTS_MEDI', 'NONLIVINGAREA_MEDI', 'TOTALAREA_MODE', 'OBS_30_CNT_SOCIAL_CIRCLE', 'DEF_30_CNT_SOCIAL_CIRCLE', 'OBS_60_CNT_SOCIAL_CIRCLE', 'DEF_60_CNT_SOCIAL_CIRCLE', 'DAYS_LAST_PHONE_CHANGE', 'AMT_REQ_CREDIT_BUREAU_HOUR', 'AMT_REQ_CREDIT_BUREAU_DAY', 'AMT_REQ_CREDIT_BUREAU_WEEK', 'AMT_REQ_CREDIT_BUREAU_MON', 'AMT_REQ_CREDIT_BUREAU_QRT', 'AMT_REQ_CREDIT_BUREAU_YEAR']\n"
     ]
    },
    {
     "data": {
      "image/png": "[encoded data removed]",
      "text/plain": [
       "<matplotlib.figure.Figure at 0x11b1936d8>"
      ]
     },
     "metadata": {},
     "output_type": "display_data"
    },
    {
     "data": {
      "image/png": "[encoded data removed]",
      "text/plain": [
       "<matplotlib.figure.Figure at 0x1150e0cf8>"
      ]
     },
     "metadata": {},
     "output_type": "display_data"
    },
    {
     "data": {
      "image/png": "[encoded data removed]",
      "text/plain": [
       "<matplotlib.figure.Figure at 0x118654208>"
      ]
     },
     "metadata": {},
     "output_type": "display_data"
    },
    {
     "data": {
      "image/png": "[encoded data removed]",
      "text/plain": [
       "<matplotlib.figure.Figure at 0x117e72748>"
      ]
     },
     "metadata": {},
     "output_type": "display_data"
    },
    {
     "name": "stdout",
     "output_type": "stream",
     "text": [
      "AMT_ANNUITY (array([ 47531,  50035,  51594,  55025,  59934,  75873,  89343, 123872,\n",
      "       207186, 227939, 239329, 241835]),)\n",
      "AMT_GOODS_PRICE (array([   724,   5937,   6425,   6703,   7647,   7880,   7995,  10819,\n",
      "        11287,  13008,  14699,  15953,  18935,  19178,  19921,  21193,\n",
      "        21338,  21546,  25391,  26398,  26736,  27003,  28201,  29059,\n",
      "        30164,  30294,  32143,  36250,  36721,  39230,  40571,  41099,\n",
      "        41161,  41982,  42024,  43630,  45657,  47627,  50540,  52711,\n",
      "        52955,  54045,  55600,  56002,  58595,  58653,  60622,  61022,\n",
      "        61072,  61618,  63319,  64118,  64184,  66168,  67609,  69461,\n",
      "        69525,  70661,  70731,  72166,  72902,  74676,  75036,  78786,\n",
      "        79108,  79484,  80669,  83784,  85172,  85861,  86000,  86005,\n",
      "        87095,  87144,  87226,  88544,  89085,  89698,  90898,  96192,\n",
      "        97022, 102123, 102245, 106630, 107559, 107715, 110972, 112566,\n",
      "       113036, 113251, 113449, 114314, 114788, 116575, 117302, 117471,\n",
      "       117483, 123354, 124123, 124436, 124770, 128354, 129705, 130737,\n",
      "       130800, 131669, 132208, 133526, 133548, 134298, 134327, 136330,\n",
      "       136424, 137091, 137354, 137374, 139558, 142605, 143606, 145137,\n",
      "       145278, 145594, 147294, 149045, 149111, 149562, 150425, 152608,\n",
      "       152898, 153801, 155673, 155716, 156456, 158563, 158785, 161730,\n",
      "       163709, 163889, 167777, 168169, 168588, 169101, 176663, 179626,\n",
      "       180925, 183381, 184811, 186634, 187032, 187120, 187145, 187167,\n",
      "       187348, 188475, 190113, 191858, 193826, 195008, 195851, 195936,\n",
      "       197105, 197647, 199643, 200312, 201823, 202896, 204519, 206222,\n",
      "       207015, 209338, 209657, 210718, 211090, 214803, 215137, 215656,\n",
      "       216059, 216762, 216996, 218083, 218140, 218981, 219070, 219075,\n",
      "       221204, 223226, 223502, 225994, 226725, 227450, 229877, 229923,\n",
      "       230455, 230484, 233542, 236260, 236624, 236974, 237074, 239491,\n",
      "       239835, 240223, 242000, 242020, 242307, 242644, 243268, 244620,\n",
      "       244962, 245542, 246989, 247473, 248749, 249109, 249616, 253126,\n",
      "       254451, 255049, 256395, 256843, 257017, 257118, 257405, 259788,\n",
      "       260704, 262052, 262572, 262657, 262853, 263035, 263213, 267302,\n",
      "       267335, 267367, 269291, 270616, 271074, 271339, 271611, 271754,\n",
      "       272242, 272252, 273229, 273757, 275284, 275429, 276692, 277969,\n",
      "       278747, 279583, 279997, 281050, 281653, 282002, 282270, 282847,\n",
      "       283159, 285269, 287092, 287347, 289793, 291372, 291384, 292040,\n",
      "       292120, 294136, 295295, 298004, 300107, 302923, 303603, 303621,\n",
      "       304621, 304678, 304784, 305833, 306126, 306273]),)\n"
     ]
    },
    {
     "data": {
      "image/png": "[encoded data removed]",
      "text/plain": [
       "<matplotlib.figure.Figure at 0x117b92c18>"
      ]
     },
     "metadata": {},
     "output_type": "display_data"
    },
    {
     "data": {
      "image/png": "[encoded data removed]",
      "text/plain": [
       "<matplotlib.figure.Figure at 0x11b6089e8>"
      ]
     },
     "metadata": {},
     "output_type": "display_data"
    },
    {
     "data": {
      "image/png": "[encoded data removed]",
      "text/plain": [
       "<matplotlib.figure.Figure at 0x11b12fef0>"
      ]
     },
     "metadata": {},
     "output_type": "display_data"
    },
    {
     "data": {
      "image/png": "[encoded data removed]",
      "text/plain": [
       "<matplotlib.figure.Figure at 0x11acabf98>"
      ]
     },
     "metadata": {},
     "output_type": "display_data"
    },
    {
     "data": {
      "image/png": "[encoded data removed]",
      "text/plain": [
       "<matplotlib.figure.Figure at 0x11b135c18>"
      ]
     },
     "metadata": {},
     "output_type": "display_data"
    },
    {
     "name": "stdout",
     "output_type": "stream",
     "text": [
      "OWN_CAR_AGE (array([     0,      1,      3, ..., 307508, 307509, 307510]),)\n",
      "CNT_FAM_MEMBERS (array([ 41982, 187348]),)\n"
     ]
    },
    {
     "data": {
      "image/png": "[encoded data removed]",
      "text/plain": [
       "<matplotlib.figure.Figure at 0x117fdfd68>"
      ]
     },
     "metadata": {},
     "output_type": "display_data"
    },
    {
     "data": {
      "image/png": "[encoded data removed]",
      "text/plain": [
       "<matplotlib.figure.Figure at 0x117e0b6a0>"
      ]
     },
     "metadata": {},
     "output_type": "display_data"
    },
    {
     "data": {
      "image/png": "[encoded data removed]",
      "text/plain": [
       "<matplotlib.figure.Figure at 0x117e159b0>"
      ]
     },
     "metadata": {},
     "output_type": "display_data"
    },
    {
     "name": "stdout",
     "output_type": "stream",
     "text": [
      "EXT_SOURCE_1 (array([     2,      3,      4, ..., 307505, 307507, 307509]),)\n",
      "EXT_SOURCE_2 (array([   329,    349,    617,   1028,   1520,   2098,   2426,   2448,\n",
      "         2756,   3212,   3456,   3525,   3812,   4458,   4562,   4748,\n",
      "         5892,   6138,   6432,   6992,   7220,   7402,   7491,   7730,\n",
      "         9117,   9184,  10050,  10881,  10910,  11400,  11881,  12065,\n",
      "        12386,  12516,  12825,  12898,  13499,  14314,  14714,  14869,\n",
      "        15709,  15795,  15858,  16376,  16498,  16505,  17029,  17436,\n",
      "        18349,  19661,  20042,  20686,  20843,  20988,  21050,  21230,\n",
      "        21497,  22112,  22286,  22888,  23088,  23259,  23662,  23680,\n",
      "        24798,  24815,  24936,  26952,  27461,  28328,  28644,  29140,\n",
      "        29287,  29633,  29951,  30296,  30702,  30928,  30943,  30970,\n",
      "        31486,  33516,  33685,  33933,  34114,  34147,  34547,  36005,\n",
      "        36547,  37048,  37461,  37728,  37837,  38318,  38326,  38967,\n",
      "        39070,  40281,  40419,  40511,  40685,  41533,  41694,  42166,\n",
      "        42654,  42894,  43073,  43429,  45120,  45126,  45275,  45519,\n",
      "        45587,  45650,  45680,  45956,  46088,  46120,  46265,  46352,\n",
      "        46636,  46846,  47237,  47393,  47784,  49241,  50065,  50361,\n",
      "        52057,  52488,  52681,  52737,  53464,  53601,  54218,  54625,\n",
      "        55455,  55794,  56967,  57142,  58182,  58577,  58623,  58898,\n",
      "        60311,  60488,  60708,  61932,  62573,  62628,  63053,  63887,\n",
      "        64250,  65627,  66014,  66659,  66888,  67474,  68520,  68713,\n",
      "        69907,  70923,  71082,  71727,  72105,  72717,  73412,  73567,\n",
      "        73579,  73585,  73619,  73638,  74434,  76033,  76860,  77480,\n",
      "        78065,  79526,  79529,  80950,  81355,  81475,  81535,  82533,\n",
      "        82664,  82885,  82950,  83790,  84018,  84842,  85577,  85698,\n",
      "        85882,  87155,  87839,  87972,  88245,  88320,  90842,  90915,\n",
      "        91018,  93728,  94377,  94522,  94756,  96514,  96792,  96858,\n",
      "        97210,  97713,  98384,  98612,  98613,  99978,  99981, 100897,\n",
      "       101828, 102354, 102807, 102898, 103091, 103133, 103264, 103703,\n",
      "       104659, 104811, 104915, 104916, 105524, 105624, 105634, 105767,\n",
      "       106020, 106145, 108643, 108646, 109016, 110486, 110582, 110831,\n",
      "       111845, 111861, 112672, 113054, 113944, 114030, 114334, 114611,\n",
      "       115108, 116106, 116110, 117134, 117404, 117539, 117564, 118703,\n",
      "       119394, 120289, 120372, 120581, 120753, 121673, 122331, 122350,\n",
      "       122672, 123093, 123345, 123809, 124434, 124725, 125365, 125520,\n",
      "       125707, 126239, 126483, 128249, 128363, 128421, 128928, 129183,\n",
      "       129250, 129549, 130045, 130805, 131057, 131412, 131741, 132008,\n",
      "       132268, 132376, 132776, 132976, 133208, 133484, 133486, 133608,\n",
      "       133694, 133959, 134203, 135003, 135041, 135387, 135464, 137233,\n",
      "       138689, 139074, 141032, 141193, 141899, 142294, 142782, 142819,\n",
      "       142875, 143851, 144001, 144590, 145502, 146191, 146604, 146653,\n",
      "       146836, 147352, 147403, 147489, 147558, 148030, 148042, 149079,\n",
      "       150234, 150519, 150568, 150592, 151999, 152429, 156732, 156786,\n",
      "       157066, 157229, 157573, 157871, 158421, 159033, 159147, 159457,\n",
      "       159463, 160084, 160223, 160326, 160522, 160752, 161448, 161510,\n",
      "       162109, 162436, 162652, 162856, 162892, 162907, 163034, 163495,\n",
      "       165070, 165690, 167084, 167546, 167691, 168660, 169675, 169767,\n",
      "       169823, 169913, 169971, 170469, 170573, 171905, 171917, 172753,\n",
      "       172846, 173056, 174505, 174629, 175688, 175860, 177066, 177091,\n",
      "       177318, 177643, 178318, 178323, 178338, 178839, 178994, 179193,\n",
      "       179695, 181353, 181920, 182349, 182603, 182661, 183029, 184307,\n",
      "       184373, 185001, 185512, 185697, 185851, 186194, 186256, 186556,\n",
      "       186705, 187180, 187438, 188035, 188531, 188835, 188854, 189336,\n",
      "       190098, 190349, 190427, 191012, 192215, 192466, 192804, 193060,\n",
      "       193133, 193975, 194150, 194446, 195006, 195091, 195388, 197165,\n",
      "       197476, 197588, 197791, 198239, 199088, 199878, 200235, 200644,\n",
      "       200820, 201512, 201973, 202237, 202299, 202695, 203078, 203310,\n",
      "       203422, 203443, 203487, 203648, 204448, 205322, 206618, 207295,\n",
      "       207328, 207476, 207733, 208170, 208413, 208727, 209063, 209306,\n",
      "       209475, 209576, 210144, 210270, 211816, 212247, 212536, 213790,\n",
      "       214296, 214751, 215192, 215498, 216113, 216289, 216422, 216423,\n",
      "       216852, 217013, 217313, 217958, 218469, 219139, 220153, 221198,\n",
      "       221911, 222241, 222419, 223723, 224150, 224468, 224619, 224855,\n",
      "       224877, 225329, 226384, 227253, 227297, 228347, 228431, 228576,\n",
      "       228991, 229487, 230447, 230606, 230854, 231103, 231777, 231820,\n",
      "       232647, 232829, 233053, 233428, 234048, 234526, 235343, 236249,\n",
      "       236451, 237072, 237227, 237941, 238081, 238262, 241067, 241925,\n",
      "       242651, 242808, 245303, 245361, 245407, 245678, 245922, 247958,\n",
      "       248518, 249130, 251009, 251477, 251903, 252326, 252573, 252810,\n",
      "       252957, 253539, 253864, 254345, 255670, 256071, 257353, 257706,\n",
      "       257846, 258675, 258878, 259148, 259284, 259532, 259749, 259882,\n",
      "       260137, 260646, 260782, 260955, 261187, 261513, 261656, 261724,\n",
      "       262758, 263861, 264306, 264862, 264977, 265077, 265837, 266324,\n",
      "       266959, 267760, 267935, 268168, 268940, 270104, 270431, 270569,\n",
      "       271385, 271464, 271932, 272409, 273466, 273757, 274084, 274756,\n",
      "       275098, 275137, 276254, 276312, 276502, 276903, 277217, 278945,\n",
      "       279240, 280413, 280461, 280462, 281142, 281486, 282132, 282237,\n",
      "       283063, 284138, 284427, 284592, 285178, 285947, 286623, 286688,\n",
      "       286958, 287037, 287260, 287897, 288239, 288544, 288917, 288974,\n",
      "       289259, 289720, 291253, 291588, 291614, 293338, 294225, 295159,\n",
      "       295378, 297684, 297812, 297937, 298285, 298610, 298665, 299006,\n",
      "       299544, 299887, 300533, 301170, 302204, 302259, 302744, 303537,\n",
      "       303911, 304185, 304479, 304721, 305380, 305436, 305683, 305775,\n",
      "       306208, 306235, 307029, 307387]),)\n",
      "EXT_SOURCE_3 (array([     1,      3,      4, ..., 307504, 307506, 307507]),)\n",
      "APARTMENTS_AVG (array([     2,      3,      4, ..., 307502, 307503, 307504]),)\n",
      "BASEMENTAREA_AVG (array([     2,      3,      4, ..., 307503, 307504, 307509]),)\n",
      "YEARS_BEGINEXPLUATATION_AVG (array([     2,      3,      4, ..., 307502, 307503, 307504]),)\n",
      "YEARS_BUILD_AVG (array([     2,      3,      4, ..., 307504, 307509, 307510]),)\n",
      "COMMONAREA_AVG (array([     2,      3,      4, ..., 307503, 307504, 307509]),)\n",
      "ELEVATORS_AVG (array([     2,      3,      4, ..., 307503, 307504, 307509]),)\n",
      "ENTRANCES_AVG (array([     2,      3,      4, ..., 307502, 307503, 307504]),)\n",
      "FLOORSMAX_AVG (array([     2,      3,      4, ..., 307502, 307503, 307504]),)\n",
      "FLOORSMIN_AVG (array([     2,      3,      4, ..., 307504, 307509, 307510]),)\n",
      "LANDAREA_AVG (array([     2,      3,      4, ..., 307508, 307509, 307510]),)\n",
      "LIVINGAPARTMENTS_AVG (array([     2,      3,      4, ..., 307504, 307509, 307510]),)\n",
      "LIVINGAREA_AVG (array([     2,      3,      4, ..., 307502, 307503, 307504]),)\n",
      "NONLIVINGAPARTMENTS_AVG (array([     2,      3,      4, ..., 307504, 307509, 307510]),)\n",
      "NONLIVINGAREA_AVG (array([     2,      3,      4, ..., 307503, 307504, 307509]),)\n",
      "APARTMENTS_MODE (array([     2,      3,      4, ..., 307502, 307503, 307504]),)\n",
      "BASEMENTAREA_MODE (array([     2,      3,      4, ..., 307503, 307504, 307509]),)\n",
      "YEARS_BEGINEXPLUATATION_MODE (array([     2,      3,      4, ..., 307502, 307503, 307504]),)\n",
      "YEARS_BUILD_MODE (array([     2,      3,      4, ..., 307504, 307509, 307510]),)\n",
      "COMMONAREA_MODE (array([     2,      3,      4, ..., 307503, 307504, 307509]),)\n",
      "ELEVATORS_MODE (array([     2,      3,      4, ..., 307503, 307504, 307509]),)\n",
      "ENTRANCES_MODE (array([     2,      3,      4, ..., 307502, 307503, 307504]),)\n",
      "FLOORSMAX_MODE (array([     2,      3,      4, ..., 307502, 307503, 307504]),)\n",
      "FLOORSMIN_MODE (array([     2,      3,      4, ..., 307504, 307509, 307510]),)\n",
      "LANDAREA_MODE (array([     2,      3,      4, ..., 307508, 307509, 307510]),)\n",
      "LIVINGAPARTMENTS_MODE (array([     2,      3,      4, ..., 307504, 307509, 307510]),)\n",
      "LIVINGAREA_MODE (array([     2,      3,      4, ..., 307502, 307503, 307504]),)\n",
      "NONLIVINGAPARTMENTS_MODE (array([     2,      3,      4, ..., 307504, 307509, 307510]),)\n",
      "NONLIVINGAREA_MODE (array([     2,      3,      4, ..., 307503, 307504, 307509]),)\n",
      "APARTMENTS_MEDI (array([     2,      3,      4, ..., 307502, 307503, 307504]),)\n",
      "BASEMENTAREA_MEDI (array([     2,      3,      4, ..., 307503, 307504, 307509]),)\n",
      "YEARS_BEGINEXPLUATATION_MEDI (array([     2,      3,      4, ..., 307502, 307503, 307504]),)\n",
      "YEARS_BUILD_MEDI (array([     2,      3,      4, ..., 307504, 307509, 307510]),)\n",
      "COMMONAREA_MEDI (array([     2,      3,      4, ..., 307503, 307504, 307509]),)\n",
      "ELEVATORS_MEDI (array([     2,      3,      4, ..., 307503, 307504, 307509]),)\n",
      "ENTRANCES_MEDI (array([     2,      3,      4, ..., 307502, 307503, 307504]),)\n",
      "FLOORSMAX_MEDI (array([     2,      3,      4, ..., 307502, 307503, 307504]),)\n",
      "FLOORSMIN_MEDI (array([     2,      3,      4, ..., 307504, 307509, 307510]),)\n",
      "LANDAREA_MEDI (array([     2,      3,      4, ..., 307508, 307509, 307510]),)\n",
      "LIVINGAPARTMENTS_MEDI (array([     2,      3,      4, ..., 307504, 307509, 307510]),)\n",
      "LIVINGAREA_MEDI (array([     2,      3,      4, ..., 307502, 307503, 307504]),)\n",
      "NONLIVINGAPARTMENTS_MEDI (array([     2,      3,      4, ..., 307504, 307509, 307510]),)\n",
      "NONLIVINGAREA_MEDI (array([     2,      3,      4, ..., 307503, 307504, 307509]),)\n",
      "TOTALAREA_MODE (array([     2,      3,      4, ..., 307502, 307503, 307504]),)\n",
      "OBS_30_CNT_SOCIAL_CIRCLE (array([    68,    394,    397, ..., 305641, 305642, 307402]),)\n",
      "DEF_30_CNT_SOCIAL_CIRCLE (array([    68,    394,    397, ..., 305641, 305642, 307402]),)\n",
      "OBS_60_CNT_SOCIAL_CIRCLE (array([    68,    394,    397, ..., 305641, 305642, 307402]),)\n",
      "DEF_60_CNT_SOCIAL_CIRCLE (array([    68,    394,    397, ..., 305641, 305642, 307402]),)\n",
      "DAYS_LAST_PHONE_CHANGE (array([15709]),)\n",
      "AMT_REQ_CREDIT_BUREAU_HOUR (array([     3,      9,     14, ..., 307504, 307506, 307507]),)\n",
      "AMT_REQ_CREDIT_BUREAU_DAY (array([     3,      9,     14, ..., 307504, 307506, 307507]),)\n",
      "AMT_REQ_CREDIT_BUREAU_WEEK (array([     3,      9,     14, ..., 307504, 307506, 307507]),)\n",
      "AMT_REQ_CREDIT_BUREAU_MON (array([     3,      9,     14, ..., 307504, 307506, 307507]),)\n"
     ]
    },
    {
     "name": "stdout",
     "output_type": "stream",
     "text": [
      "AMT_REQ_CREDIT_BUREAU_QRT (array([     3,      9,     14, ..., 307504, 307506, 307507]),)\n",
      "AMT_REQ_CREDIT_BUREAU_YEAR (array([     3,      9,     14, ..., 307504, 307506, 307507]),)\n"
     ]
    }
   ],
   "source": [
    "# 先篩選數值型的欄位\n",
    "\"\"\"\n",
    "YOUR CODE HERE, fill correct data types (for example str, float, int, ...)\n",
    "\"\"\"\n",
    "numeric_columns = list(app_train.select_dtypes(include=[\"float64\", \"int64\"]).columns)\n",
    "\n",
    "# 再把只有 2 值 (通常是 0,1) 的欄位去掉\n",
    "numeric_columns = list(app_train[numeric_columns].columns[list(app_train[numeric_columns].apply(lambda x:len(x.unique())>2 ))])\n",
    "print(\"Numbers of remain columns: %s\" % len(numeric_columns))\n",
    "print(numeric_columns)\n",
    "\n",
    "# 檢視這些欄位的數值範圍\n",
    "for col in numeric_columns:\n",
    "    if len(np.where(np.isnan(app_train[col]))[0]) > 0:\n",
    "        print(col, np.where(np.isnan(app_train[col])))\n",
    "    else:\n",
    "        plt.boxplot(app_train[col])\n",
    "        plt.xlabel(col)\n",
    "        plt.show()\n"
   ]
  },
  {
   "cell_type": "code",
   "execution_count": 266,
   "metadata": {
    "collapsed": true
   },
   "outputs": [],
   "source": [
    "# 從上面的圖檢查的結果，至少這三個欄位好像有點可疑\n",
    "\n",
    "# AMT_INCOME_TOTAL\n",
    "# REGION_POPULATION_RELATIVE\n",
    "# OBS_60_CNT_SOCIAL_CIRCLE"
   ]
  },
  {
   "cell_type": "markdown",
   "metadata": {},
   "source": [
    "### Hints: Emprical Cumulative Density Plot, [ECDF](https://zh.wikipedia.org/wiki/%E7%BB%8F%E9%AA%8C%E5%88%86%E5%B8%83%E5%87%BD%E6%95%B0), [ECDF with Python](https://stackoverflow.com/questions/14006520/ecdf-in-python-without-step-function)"
   ]
  },
  {
   "cell_type": "code",
   "execution_count": 267,
   "metadata": {},
   "outputs": [
    {
     "name": "stdout",
     "output_type": "stream",
     "text": [
      "count    3.075110e+05\n",
      "mean     1.687979e+05\n",
      "std      2.371231e+05\n",
      "min      2.565000e+04\n",
      "25%      1.125000e+05\n",
      "50%      1.471500e+05\n",
      "75%      2.025000e+05\n",
      "max      1.170000e+08\n",
      "Name: AMT_INCOME_TOTAL, dtype: float64\n"
     ]
    },
    {
     "data": {
      "image/png": "[encoded data removed]",
      "text/plain": [
       "<matplotlib.figure.Figure at 0x117b92128>"
      ]
     },
     "metadata": {},
     "output_type": "display_data"
    },
    {
     "data": {
      "image/png": "[encoded data removed]",
      "text/plain": [
       "<matplotlib.figure.Figure at 0x1150295f8>"
      ]
     },
     "metadata": {},
     "output_type": "display_data"
    }
   ],
   "source": [
    "# 最大值離平均與中位數很遠\n",
    "print(app_train['AMT_INCOME_TOTAL'].describe())\n",
    "\n",
    "# 繪製 Empirical Cumulative Density Plot (ECDF)\n",
    "\"\"\"\n",
    "YOUR CODE HERE\n",
    "\"\"\"\n",
    "\n",
    "cdf = np.cumsum(app_train['AMT_INCOME_TOTAL'].value_counts().sort_index())\n",
    "\n",
    "\n",
    "plt.plot(list(cdf.index), cdf/cdf.max())\n",
    "plt.xlabel('Value')\n",
    "plt.ylabel('ECDF')\n",
    "plt.xlim([cdf.index.min(), cdf.index.max() * 1.05]) # 限制顯示圖片的範圍\n",
    "plt.ylim([-0.05,1.05]) # 限制顯示圖片的範圍\n",
    "\n",
    "plt.show()\n",
    "\n",
    "# 改變 y 軸的 Scale, 讓我們可以正常檢視 ECDF\n",
    "plt.plot(np.log(list(cdf.index)), cdf/cdf.max())\n",
    "plt.xlabel('Value (log-scale)')\n",
    "plt.ylabel('ECDF')\n",
    "\n",
    "plt.ylim([-0.05,1.05]) # 限制顯示圖片的範圍\n",
    "\n",
    "plt.show()"
   ]
  },
  {
   "cell_type": "markdown",
   "metadata": {},
   "source": [
    "## 補充：Normal dist 的 ECDF\n",
    "![ecdf_normal](https://au.mathworks.com/help/examples/stats/win64/PlotEmpiricalCdfAndCompareWithSamplingDistributionExample_01.png)"
   ]
  },
  {
   "cell_type": "code",
   "execution_count": 268,
   "metadata": {},
   "outputs": [
    {
     "name": "stdout",
     "output_type": "stream",
     "text": [
      "count    307511.000000\n",
      "mean          0.020868\n",
      "std           0.013831\n",
      "min           0.000290\n",
      "25%           0.010006\n",
      "50%           0.018850\n",
      "75%           0.028663\n",
      "max           0.072508\n",
      "Name: REGION_POPULATION_RELATIVE, dtype: float64\n"
     ]
    },
    {
     "data": {
      "image/png": "[encoded data removed]",
      "text/plain": [
       "<matplotlib.figure.Figure at 0x117b12438>"
      ]
     },
     "metadata": {},
     "output_type": "display_data"
    },
    {
     "data": {
      "image/png": "[encoded data removed]",
      "text/plain": [
       "<matplotlib.figure.Figure at 0x117b12080>"
      ]
     },
     "metadata": {},
     "output_type": "display_data"
    },
    {
     "data": {
      "text/plain": [
       "0.035792    16408\n",
       "0.046220    13442\n",
       "0.030755    12163\n",
       "0.025164    11950\n",
       "0.026392    11601\n",
       "0.031329    11321\n",
       "0.028663    11157\n",
       "0.019101     8694\n",
       "0.072508     8412\n",
       "0.020713     8066\n",
       "0.018850     7668\n",
       "0.020246     7178\n",
       "0.018634     7038\n",
       "0.022625     6943\n",
       "0.015221     6824\n",
       "0.032561     6636\n",
       "0.024610     6404\n",
       "0.019689     6172\n",
       "0.018029     6167\n",
       "0.018801     6108\n",
       "0.018209     6052\n",
       "0.014520     4785\n",
       "0.016612     4408\n",
       "0.007020     4105\n",
       "0.022800     3807\n",
       "0.010032     3570\n",
       "0.010006     3563\n",
       "0.014464     3422\n",
       "0.004960     3300\n",
       "0.011703     3252\n",
       "            ...  \n",
       "0.006008     1796\n",
       "0.003069     1783\n",
       "0.008575     1763\n",
       "0.008474     1740\n",
       "0.007274     1724\n",
       "0.007114     1684\n",
       "0.006305     1672\n",
       "0.008068     1668\n",
       "0.008866     1654\n",
       "0.006671     1653\n",
       "0.002042     1642\n",
       "0.003813     1616\n",
       "0.005084     1482\n",
       "0.006296     1225\n",
       "0.005313     1218\n",
       "0.003818     1212\n",
       "0.003122     1147\n",
       "0.006233     1087\n",
       "0.005002     1068\n",
       "0.002134     1051\n",
       "0.004849     1038\n",
       "0.005144      967\n",
       "0.002506      944\n",
       "0.003541      627\n",
       "0.001276      558\n",
       "0.001417      467\n",
       "0.001333      235\n",
       "0.000533       39\n",
       "0.000938       28\n",
       "0.000290        2\n",
       "Name: REGION_POPULATION_RELATIVE, Length: 81, dtype: int64"
      ]
     },
     "execution_count": 268,
     "metadata": {},
     "output_type": "execute_result"
    }
   ],
   "source": [
    "# 最大值落在分布之外\n",
    "print(app_train['REGION_POPULATION_RELATIVE'].describe())\n",
    "\n",
    "# 繪製 Empirical Cumulative Density Plot (ECDF)\n",
    "\"\"\"\n",
    "Your Code Here\n",
    "\"\"\"\n",
    "cdf = np.cumsum(app_train['REGION_POPULATION_RELATIVE'].value_counts().sort_index())\n",
    "\n",
    "\n",
    "plt.plot(list(cdf.index), cdf/cdf.max())\n",
    "plt.xlabel('Value')\n",
    "plt.ylabel('ECDF')\n",
    "plt.ylim([-0.05,1.05]) # 限制顯示圖片的範圍\n",
    "plt.show()\n",
    "\n",
    "app_train['REGION_POPULATION_RELATIVE'].hist()\n",
    "plt.show()\n",
    "\n",
    "app_train['REGION_POPULATION_RELATIVE'].value_counts()\n",
    "\n",
    "# 就以這個欄位來說，雖然有資料掉在分布以外，也不算異常，僅代表這間公司在稍微熱鬧的地區有的據點較少，\n",
    "# 導致 region population relative 在少的部分較為密集，但在大的部分較為疏漏"
   ]
  },
  {
   "cell_type": "code",
   "execution_count": 269,
   "metadata": {
    "scrolled": true
   },
   "outputs": [
    {
     "name": "stdout",
     "output_type": "stream",
     "text": [
      "count    306490.000000\n",
      "mean          1.405292\n",
      "std           2.379803\n",
      "min           0.000000\n",
      "25%           0.000000\n",
      "50%           0.000000\n",
      "75%           2.000000\n",
      "max         344.000000\n",
      "Name: OBS_60_CNT_SOCIAL_CIRCLE, dtype: float64\n"
     ]
    },
    {
     "data": {
      "image/png": "[encoded data removed]",
      "text/plain": [
       "<matplotlib.figure.Figure at 0x11b608b00>"
      ]
     },
     "metadata": {},
     "output_type": "display_data"
    },
    {
     "data": {
      "image/png": "[encoded data removed]",
      "text/plain": [
       "<matplotlib.figure.Figure at 0x11b7c4748>"
      ]
     },
     "metadata": {},
     "output_type": "display_data"
    },
    {
     "name": "stdout",
     "output_type": "stream",
     "text": [
      "344.0         1\n",
      "47.0          1\n",
      "30.0          1\n",
      "29.0          2\n",
      "28.0          1\n",
      "27.0          5\n",
      "26.0          1\n",
      "25.0         11\n",
      "24.0         12\n",
      "23.0         13\n",
      "22.0         20\n",
      "21.0         28\n",
      "20.0         30\n",
      "19.0         44\n",
      "18.0         49\n",
      "17.0         73\n",
      "16.0        137\n",
      "15.0        166\n",
      "14.0        238\n",
      "13.0        401\n",
      "12.0        620\n",
      "11.0        837\n",
      "10.0       1335\n",
      "9.0        1959\n",
      "8.0        2886\n",
      "7.0        4344\n",
      "6.0        6349\n",
      "5.0        9463\n",
      "4.0       13946\n",
      "3.0       20215\n",
      "2.0       29766\n",
      "1.0       48870\n",
      "0.0      164666\n",
      "Name: OBS_60_CNT_SOCIAL_CIRCLE, dtype: int64\n"
     ]
    }
   ],
   "source": [
    "# 最大值落在分布之外\n",
    "print(app_train['OBS_60_CNT_SOCIAL_CIRCLE'].describe())\n",
    "\n",
    "# 繪製 Empirical Cumulative Density Plot (ECDF)\n",
    "\"\"\"\n",
    "Your Code Here\n",
    "\"\"\"\n",
    "cdf = np.cumsum(app_train['OBS_60_CNT_SOCIAL_CIRCLE'].value_counts().sort_index())\n",
    "\n",
    "\n",
    "plt.plot(list(cdf.index), cdf/cdf.max())\n",
    "plt.xlabel('Value')\n",
    "plt.ylabel('ECDF')\n",
    "plt.xlim([cdf.index.min() * 0.95, cdf.index.max() * 1.05])\n",
    "plt.ylim([-0.05,1.05]) # 限制顯示圖片的範圍\n",
    "plt.show()\n",
    "\n",
    "app_train['OBS_60_CNT_SOCIAL_CIRCLE'].hist()\n",
    "plt.show()\n",
    "print(app_train['OBS_60_CNT_SOCIAL_CIRCLE'].value_counts().sort_index(ascending = False))"
   ]
  },
  {
   "cell_type": "markdown",
   "metadata": {},
   "source": [
    "## 注意：當 histogram 畫出上面這種圖 (只出現一條，但是 x 軸延伸很長導致右邊有一大片空白時，代表右邊有值但是數量稀少。這時可以考慮用 value_counts 去找到這些數值"
   ]
  },
  {
   "cell_type": "code",
   "execution_count": 270,
   "metadata": {},
   "outputs": [
    {
     "data": {
      "image/png": "[encoded data removed]",
      "text/plain": [
       "<matplotlib.figure.Figure at 0x11b6087f0>"
      ]
     },
     "metadata": {},
     "output_type": "display_data"
    }
   ],
   "source": [
    "# 把一些極端值暫時去掉，在繪製一次 Histogram\n",
    "# 選擇 OBS_60_CNT_SOCIAL_CIRCLE 小於 20 的資料點繪製\n",
    "\"\"\"\n",
    "Your Code Here\n",
    "\"\"\"\n",
    "loc_a = app_train[\"OBS_60_CNT_SOCIAL_CIRCLE\"] <= 20 \n",
    "loc_b = \"OBS_60_CNT_SOCIAL_CIRCLE\" \n",
    "\n",
    "app_train.loc[loc_a, loc_b].hist()\n",
    "plt.show()"
   ]
  }
 ],
 "metadata": {
  "anaconda-cloud": {},
  "kernelspec": {
   "display_name": "Python 3",
   "language": "python",
   "name": "python3"
  },
  "language_info": {
   "codemirror_mode": {
    "name": "ipython",
    "version": 3
   },
   "file_extension": ".py",
   "mimetype": "text/x-python",
   "name": "python",
   "nbconvert_exporter": "python",
   "pygments_lexer": "ipython3",
   "version": "3.6.3"
  }
 },
 "nbformat": 4,
 "nbformat_minor": 1
}
